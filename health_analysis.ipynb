{
 "cells": [
  {
   "cell_type": "code",
   "execution_count": 1,
   "metadata": {},
   "outputs": [],
   "source": [
    "import xml.etree.ElementTree as ET\n",
    "import pandas as pd"
   ]
  },
  {
   "cell_type": "code",
   "execution_count": 2,
   "metadata": {},
   "outputs": [],
   "source": [
    "# create element tree object \n",
    "tree = ET.parse('export.xml') "
   ]
  },
  {
   "cell_type": "code",
   "execution_count": 3,
   "metadata": {},
   "outputs": [],
   "source": [
    "# for every health record, extract the attributes into a dictionary (columns). Then create a list (rows).\n",
    "root = tree.getroot()\n",
    "record_list = [x.attrib for x in root.iter('Record')]"
   ]
  },
  {
   "cell_type": "code",
   "execution_count": 5,
   "metadata": {},
   "outputs": [
    {
     "data": {
      "text/html": [
       "<div>\n",
       "<style scoped>\n",
       "    .dataframe tbody tr th:only-of-type {\n",
       "        vertical-align: middle;\n",
       "    }\n",
       "\n",
       "    .dataframe tbody tr th {\n",
       "        vertical-align: top;\n",
       "    }\n",
       "\n",
       "    .dataframe thead th {\n",
       "        text-align: right;\n",
       "    }\n",
       "</style>\n",
       "<table border=\"1\" class=\"dataframe\">\n",
       "  <thead>\n",
       "    <tr style=\"text-align: right;\">\n",
       "      <th></th>\n",
       "      <th>type</th>\n",
       "      <th>sourceName</th>\n",
       "      <th>sourceVersion</th>\n",
       "      <th>unit</th>\n",
       "      <th>creationDate</th>\n",
       "      <th>startDate</th>\n",
       "      <th>endDate</th>\n",
       "      <th>value</th>\n",
       "      <th>device</th>\n",
       "    </tr>\n",
       "  </thead>\n",
       "  <tbody>\n",
       "    <tr>\n",
       "      <th>0</th>\n",
       "      <td>HKQuantityTypeIdentifierHeight</td>\n",
       "      <td>Health</td>\n",
       "      <td>11.0</td>\n",
       "      <td>cm</td>\n",
       "      <td>2017-10-07 17:18:21 +0300</td>\n",
       "      <td>2017-10-07 17:18:21 +0300</td>\n",
       "      <td>2017-10-07 17:18:21 +0300</td>\n",
       "      <td>167.64</td>\n",
       "      <td>NaN</td>\n",
       "    </tr>\n",
       "    <tr>\n",
       "      <th>1</th>\n",
       "      <td>HKQuantityTypeIdentifierHeight</td>\n",
       "      <td>Health</td>\n",
       "      <td>13.6</td>\n",
       "      <td>cm</td>\n",
       "      <td>2020-07-31 00:07:45 +0300</td>\n",
       "      <td>2020-07-31 00:07:45 +0300</td>\n",
       "      <td>2020-07-31 00:07:45 +0300</td>\n",
       "      <td>172</td>\n",
       "      <td>NaN</td>\n",
       "    </tr>\n",
       "    <tr>\n",
       "      <th>2</th>\n",
       "      <td>HKQuantityTypeIdentifierHeight</td>\n",
       "      <td>iPhone</td>\n",
       "      <td>14.0.1</td>\n",
       "      <td>cm</td>\n",
       "      <td>2020-09-30 02:16:13 +0300</td>\n",
       "      <td>2020-09-30 02:16:13 +0300</td>\n",
       "      <td>2020-09-30 02:16:13 +0300</td>\n",
       "      <td>173</td>\n",
       "      <td>NaN</td>\n",
       "    </tr>\n",
       "    <tr>\n",
       "      <th>3</th>\n",
       "      <td>HKQuantityTypeIdentifierBodyMass</td>\n",
       "      <td>Health</td>\n",
       "      <td>11.0</td>\n",
       "      <td>kg</td>\n",
       "      <td>2017-10-07 17:18:21 +0300</td>\n",
       "      <td>2017-10-07 17:18:21 +0300</td>\n",
       "      <td>2017-10-07 17:18:21 +0300</td>\n",
       "      <td>104</td>\n",
       "      <td>NaN</td>\n",
       "    </tr>\n",
       "    <tr>\n",
       "      <th>4</th>\n",
       "      <td>HKQuantityTypeIdentifierBodyMass</td>\n",
       "      <td>Health</td>\n",
       "      <td>13.6</td>\n",
       "      <td>kg</td>\n",
       "      <td>2020-07-31 00:07:45 +0300</td>\n",
       "      <td>2020-07-31 00:07:45 +0300</td>\n",
       "      <td>2020-07-31 00:07:45 +0300</td>\n",
       "      <td>105</td>\n",
       "      <td>NaN</td>\n",
       "    </tr>\n",
       "  </tbody>\n",
       "</table>\n",
       "</div>"
      ],
      "text/plain": [
       "                               type sourceName sourceVersion unit  \\\n",
       "0    HKQuantityTypeIdentifierHeight     Health          11.0   cm   \n",
       "1    HKQuantityTypeIdentifierHeight     Health          13.6   cm   \n",
       "2    HKQuantityTypeIdentifierHeight     iPhone        14.0.1   cm   \n",
       "3  HKQuantityTypeIdentifierBodyMass     Health          11.0   kg   \n",
       "4  HKQuantityTypeIdentifierBodyMass     Health          13.6   kg   \n",
       "\n",
       "                creationDate                  startDate  \\\n",
       "0  2017-10-07 17:18:21 +0300  2017-10-07 17:18:21 +0300   \n",
       "1  2020-07-31 00:07:45 +0300  2020-07-31 00:07:45 +0300   \n",
       "2  2020-09-30 02:16:13 +0300  2020-09-30 02:16:13 +0300   \n",
       "3  2017-10-07 17:18:21 +0300  2017-10-07 17:18:21 +0300   \n",
       "4  2020-07-31 00:07:45 +0300  2020-07-31 00:07:45 +0300   \n",
       "\n",
       "                     endDate   value device  \n",
       "0  2017-10-07 17:18:21 +0300  167.64    NaN  \n",
       "1  2020-07-31 00:07:45 +0300     172    NaN  \n",
       "2  2020-09-30 02:16:13 +0300     173    NaN  \n",
       "3  2017-10-07 17:18:21 +0300     104    NaN  \n",
       "4  2020-07-31 00:07:45 +0300     105    NaN  "
      ]
     },
     "execution_count": 5,
     "metadata": {},
     "output_type": "execute_result"
    }
   ],
   "source": [
    "# create DataFrame from a list (rows) of dictionaries (columns)\n",
    "data = pd.DataFrame(record_list)\n",
    "data.head()"
   ]
  },
  {
   "cell_type": "code",
   "execution_count": 6,
   "metadata": {},
   "outputs": [
    {
     "data": {
      "text/plain": [
       "Index(['type', 'sourceName', 'sourceVersion', 'unit', 'creationDate',\n",
       "       'startDate', 'endDate', 'value', 'device'],\n",
       "      dtype='object')"
      ]
     },
     "execution_count": 6,
     "metadata": {},
     "output_type": "execute_result"
    }
   ],
   "source": [
    "data.columns"
   ]
  },
  {
   "cell_type": "code",
   "execution_count": 7,
   "metadata": {},
   "outputs": [
    {
     "data": {
      "text/plain": [
       "Cal          181126\n",
       "count         55969\n",
       "km            52801\n",
       "count/min     50858\n",
       "dBASPL        17078\n",
       "min           14144\n",
       "%              8391\n",
       "km/hr          7078\n",
       "cm             7063\n",
       "ms             1693\n",
       "m/s            1222\n",
       "m                15\n",
       "kg                5\n",
       "mL/min·kg         3\n",
       "hr                2\n",
       "Name: unit, dtype: int64"
      ]
     },
     "execution_count": 7,
     "metadata": {},
     "output_type": "execute_result"
    }
   ],
   "source": [
    "data.unit.value_counts()"
   ]
  },
  {
   "cell_type": "code",
   "execution_count": 8,
   "metadata": {},
   "outputs": [
    {
     "name": "stdout",
     "output_type": "stream",
     "text": [
      "<class 'pandas.core.frame.DataFrame'>\n",
      "RangeIndex: 402292 entries, 0 to 402291\n",
      "Data columns (total 9 columns):\n",
      " #   Column         Non-Null Count   Dtype \n",
      "---  ------         --------------   ----- \n",
      " 0   type           402292 non-null  object\n",
      " 1   sourceName     402292 non-null  object\n",
      " 2   sourceVersion  402292 non-null  object\n",
      " 3   unit           397448 non-null  object\n",
      " 4   creationDate   402292 non-null  object\n",
      " 5   startDate      402292 non-null  object\n",
      " 6   endDate        402292 non-null  object\n",
      " 7   value          402284 non-null  object\n",
      " 8   device         388037 non-null  object\n",
      "dtypes: object(9)\n",
      "memory usage: 27.6+ MB\n"
     ]
    }
   ],
   "source": [
    "data.info()"
   ]
  },
  {
   "cell_type": "code",
   "execution_count": null,
   "metadata": {},
   "outputs": [],
   "source": []
  }
 ],
 "metadata": {
  "kernelspec": {
   "display_name": "Python 3",
   "language": "python",
   "name": "python3"
  },
  "language_info": {
   "codemirror_mode": {
    "name": "ipython",
    "version": 3
   },
   "file_extension": ".py",
   "mimetype": "text/x-python",
   "name": "python",
   "nbconvert_exporter": "python",
   "pygments_lexer": "ipython3",
   "version": "3.8.5"
  }
 },
 "nbformat": 4,
 "nbformat_minor": 4
}
